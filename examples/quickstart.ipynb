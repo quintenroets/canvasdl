{
  "cells": [
    {
      "cell_type": "markdown",
      "metadata": {
        "id": "view-in-github",
        "colab_type": "text"
      },
      "source": [
        "<a href=\"https://colab.research.google.com/github/quintenroets/canvasdl/blob/main/examples/quickstart.ipynb\" target=\"_parent\"><img src=\"https://colab.research.google.com/assets/colab-badge.svg\" alt=\"Open In Colab\"/></a>"
      ]
    },
    {
      "cell_type": "code",
      "source": [
        "! pip install virtualenv\n",
        "! sudo apt install python3.10\n",
        "! virtualenv --python=/usr/bin/python3.10 canvasenv\n",
        "! source canvasenv/bin/activate; pip install canvasdl"
      ],
      "metadata": {
        "id": "4cb8WBIHIaU5"
      },
      "execution_count": null,
      "outputs": []
    },
    {
      "cell_type": "code",
      "source": [
        "! source canvasenv/bin/activate; canvasdl"
      ],
      "metadata": {
        "id": "zZulUlpkItE_"
      },
      "execution_count": null,
      "outputs": []
    }
  ],
  "metadata": {
    "colab": {
      "provenance": [],
      "include_colab_link": true
    },
    "kernelspec": {
      "display_name": "Python 3",
      "name": "python3"
    }
  },
  "nbformat": 4,
  "nbformat_minor": 0
}